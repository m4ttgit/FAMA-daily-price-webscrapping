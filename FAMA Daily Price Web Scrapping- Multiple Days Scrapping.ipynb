{
 "cells": [
  {
   "cell_type": "markdown",
   "id": "6db84ab4",
   "metadata": {},
   "source": [
    "#### Import needed libraries"
   ]
  },
  {
   "cell_type": "code",
   "execution_count": 1,
   "id": "4cd5a93c",
   "metadata": {},
   "outputs": [],
   "source": [
    "import pandas as pd\n",
    "import re"
   ]
  },
  {
   "cell_type": "markdown",
   "id": "85ed0068",
   "metadata": {},
   "source": [
    "#### Source of data"
   ]
  },
  {
   "cell_type": "code",
   "execution_count": 2,
   "id": "691bc92a",
   "metadata": {},
   "outputs": [],
   "source": [
    "url = r\"https://sdvi2.fama.gov.my/price/direct/price/daily_commodityRptPrev.asp?Pricing=A&LevelCd=03&PricingDt=\""
   ]
  },
  {
   "cell_type": "markdown",
   "id": "beaf06d3",
   "metadata": {},
   "source": [
    "#### Create a list to store all links for all 31 days in a month. Since there is only max 31 days in a month"
   ]
  },
  {
   "cell_type": "code",
   "execution_count": 3,
   "id": "cc6b98e4",
   "metadata": {},
   "outputs": [],
   "source": [
    "month_list = []"
   ]
  },
  {
   "cell_type": "markdown",
   "id": "7a3cabe9",
   "metadata": {},
   "source": [
    "#### Set the year and month for scrapping"
   ]
  },
  {
   "cell_type": "code",
   "execution_count": 4,
   "id": "f6e33da6",
   "metadata": {},
   "outputs": [
    {
     "name": "stdout",
     "output_type": "stream",
     "text": [
      "2022\n"
     ]
    }
   ],
   "source": [
    "year = str(input())"
   ]
  },
  {
   "cell_type": "code",
   "execution_count": 5,
   "id": "1d0f9570",
   "metadata": {},
   "outputs": [
    {
     "name": "stdout",
     "output_type": "stream",
     "text": [
      "8\n"
     ]
    }
   ],
   "source": [
    "month = str(input())"
   ]
  },
  {
   "cell_type": "code",
   "execution_count": 7,
   "id": "d64dc2c5",
   "metadata": {},
   "outputs": [],
   "source": [
    "yearmonth = year+\"/\"+month+\"/\""
   ]
  },
  {
   "cell_type": "code",
   "execution_count": 8,
   "id": "d675959e",
   "metadata": {},
   "outputs": [
    {
     "data": {
      "text/plain": [
       "'2022/8/'"
      ]
     },
     "execution_count": 8,
     "metadata": {},
     "output_type": "execute_result"
    }
   ],
   "source": [
    "yearmonth"
   ]
  },
  {
   "cell_type": "markdown",
   "id": "a64e71c3",
   "metadata": {},
   "source": [
    "#### Populate the list with the link to the files stored in the web"
   ]
  },
  {
   "cell_type": "code",
   "execution_count": 9,
   "id": "cc7897e7",
   "metadata": {},
   "outputs": [],
   "source": [
    "def day():\n",
    "    for day in range(1,32):\n",
    "        date = yearmonth + str(day)\n",
    "#         print(date)     \n",
    "        \n",
    "        source = url + date\n",
    "#         print(source)\n",
    "        month_list.append(source)\n",
    "#     print(month_list)"
   ]
  },
  {
   "cell_type": "code",
   "execution_count": 10,
   "id": "b26216aa",
   "metadata": {},
   "outputs": [],
   "source": [
    "day()"
   ]
  },
  {
   "cell_type": "code",
   "execution_count": 11,
   "id": "06504ee9",
   "metadata": {},
   "outputs": [
    {
     "data": {
      "text/plain": [
       "['https://sdvi2.fama.gov.my/price/direct/price/daily_commodityRptPrev.asp?Pricing=A&LevelCd=03&PricingDt=2022/8/1',\n",
       " 'https://sdvi2.fama.gov.my/price/direct/price/daily_commodityRptPrev.asp?Pricing=A&LevelCd=03&PricingDt=2022/8/2',\n",
       " 'https://sdvi2.fama.gov.my/price/direct/price/daily_commodityRptPrev.asp?Pricing=A&LevelCd=03&PricingDt=2022/8/3',\n",
       " 'https://sdvi2.fama.gov.my/price/direct/price/daily_commodityRptPrev.asp?Pricing=A&LevelCd=03&PricingDt=2022/8/4',\n",
       " 'https://sdvi2.fama.gov.my/price/direct/price/daily_commodityRptPrev.asp?Pricing=A&LevelCd=03&PricingDt=2022/8/5',\n",
       " 'https://sdvi2.fama.gov.my/price/direct/price/daily_commodityRptPrev.asp?Pricing=A&LevelCd=03&PricingDt=2022/8/6',\n",
       " 'https://sdvi2.fama.gov.my/price/direct/price/daily_commodityRptPrev.asp?Pricing=A&LevelCd=03&PricingDt=2022/8/7',\n",
       " 'https://sdvi2.fama.gov.my/price/direct/price/daily_commodityRptPrev.asp?Pricing=A&LevelCd=03&PricingDt=2022/8/8',\n",
       " 'https://sdvi2.fama.gov.my/price/direct/price/daily_commodityRptPrev.asp?Pricing=A&LevelCd=03&PricingDt=2022/8/9',\n",
       " 'https://sdvi2.fama.gov.my/price/direct/price/daily_commodityRptPrev.asp?Pricing=A&LevelCd=03&PricingDt=2022/8/10',\n",
       " 'https://sdvi2.fama.gov.my/price/direct/price/daily_commodityRptPrev.asp?Pricing=A&LevelCd=03&PricingDt=2022/8/11',\n",
       " 'https://sdvi2.fama.gov.my/price/direct/price/daily_commodityRptPrev.asp?Pricing=A&LevelCd=03&PricingDt=2022/8/12',\n",
       " 'https://sdvi2.fama.gov.my/price/direct/price/daily_commodityRptPrev.asp?Pricing=A&LevelCd=03&PricingDt=2022/8/13',\n",
       " 'https://sdvi2.fama.gov.my/price/direct/price/daily_commodityRptPrev.asp?Pricing=A&LevelCd=03&PricingDt=2022/8/14',\n",
       " 'https://sdvi2.fama.gov.my/price/direct/price/daily_commodityRptPrev.asp?Pricing=A&LevelCd=03&PricingDt=2022/8/15',\n",
       " 'https://sdvi2.fama.gov.my/price/direct/price/daily_commodityRptPrev.asp?Pricing=A&LevelCd=03&PricingDt=2022/8/16',\n",
       " 'https://sdvi2.fama.gov.my/price/direct/price/daily_commodityRptPrev.asp?Pricing=A&LevelCd=03&PricingDt=2022/8/17',\n",
       " 'https://sdvi2.fama.gov.my/price/direct/price/daily_commodityRptPrev.asp?Pricing=A&LevelCd=03&PricingDt=2022/8/18',\n",
       " 'https://sdvi2.fama.gov.my/price/direct/price/daily_commodityRptPrev.asp?Pricing=A&LevelCd=03&PricingDt=2022/8/19',\n",
       " 'https://sdvi2.fama.gov.my/price/direct/price/daily_commodityRptPrev.asp?Pricing=A&LevelCd=03&PricingDt=2022/8/20',\n",
       " 'https://sdvi2.fama.gov.my/price/direct/price/daily_commodityRptPrev.asp?Pricing=A&LevelCd=03&PricingDt=2022/8/21',\n",
       " 'https://sdvi2.fama.gov.my/price/direct/price/daily_commodityRptPrev.asp?Pricing=A&LevelCd=03&PricingDt=2022/8/22',\n",
       " 'https://sdvi2.fama.gov.my/price/direct/price/daily_commodityRptPrev.asp?Pricing=A&LevelCd=03&PricingDt=2022/8/23',\n",
       " 'https://sdvi2.fama.gov.my/price/direct/price/daily_commodityRptPrev.asp?Pricing=A&LevelCd=03&PricingDt=2022/8/24',\n",
       " 'https://sdvi2.fama.gov.my/price/direct/price/daily_commodityRptPrev.asp?Pricing=A&LevelCd=03&PricingDt=2022/8/25',\n",
       " 'https://sdvi2.fama.gov.my/price/direct/price/daily_commodityRptPrev.asp?Pricing=A&LevelCd=03&PricingDt=2022/8/26',\n",
       " 'https://sdvi2.fama.gov.my/price/direct/price/daily_commodityRptPrev.asp?Pricing=A&LevelCd=03&PricingDt=2022/8/27',\n",
       " 'https://sdvi2.fama.gov.my/price/direct/price/daily_commodityRptPrev.asp?Pricing=A&LevelCd=03&PricingDt=2022/8/28',\n",
       " 'https://sdvi2.fama.gov.my/price/direct/price/daily_commodityRptPrev.asp?Pricing=A&LevelCd=03&PricingDt=2022/8/29',\n",
       " 'https://sdvi2.fama.gov.my/price/direct/price/daily_commodityRptPrev.asp?Pricing=A&LevelCd=03&PricingDt=2022/8/30',\n",
       " 'https://sdvi2.fama.gov.my/price/direct/price/daily_commodityRptPrev.asp?Pricing=A&LevelCd=03&PricingDt=2022/8/31']"
      ]
     },
     "execution_count": 11,
     "metadata": {},
     "output_type": "execute_result"
    }
   ],
   "source": [
    "month_list"
   ]
  },
  {
   "cell_type": "code",
   "execution_count": 12,
   "id": "e1d1f076",
   "metadata": {},
   "outputs": [],
   "source": [
    "updated = []"
   ]
  },
  {
   "cell_type": "markdown",
   "id": "9b01e35f",
   "metadata": {},
   "source": [
    "#### Not all days have updated info uploaded. Create a function to filter if particular day is has update by checking the dataframe len > 1 (to check if there is any info)"
   ]
  },
  {
   "cell_type": "code",
   "execution_count": 13,
   "id": "67d2e9a1",
   "metadata": {},
   "outputs": [],
   "source": [
    "def updated_days():    \n",
    "    for day in month_list:\n",
    "        df = pd.read_html(day)\n",
    "        \n",
    "        if len(df) > 1:          \n",
    "            updated.append(day) "
   ]
  },
  {
   "cell_type": "code",
   "execution_count": 14,
   "id": "51c34ad6",
   "metadata": {},
   "outputs": [],
   "source": [
    "updated_days()"
   ]
  },
  {
   "cell_type": "markdown",
   "id": "7c888bec",
   "metadata": {},
   "source": [
    "#### Generate a list of of days with updated data"
   ]
  },
  {
   "cell_type": "code",
   "execution_count": 15,
   "id": "d48da905",
   "metadata": {
    "scrolled": true
   },
   "outputs": [
    {
     "data": {
      "text/plain": [
       "['https://sdvi2.fama.gov.my/price/direct/price/daily_commodityRptPrev.asp?Pricing=A&LevelCd=03&PricingDt=2022/8/2',\n",
       " 'https://sdvi2.fama.gov.my/price/direct/price/daily_commodityRptPrev.asp?Pricing=A&LevelCd=03&PricingDt=2022/8/3',\n",
       " 'https://sdvi2.fama.gov.my/price/direct/price/daily_commodityRptPrev.asp?Pricing=A&LevelCd=03&PricingDt=2022/8/4',\n",
       " 'https://sdvi2.fama.gov.my/price/direct/price/daily_commodityRptPrev.asp?Pricing=A&LevelCd=03&PricingDt=2022/8/6',\n",
       " 'https://sdvi2.fama.gov.my/price/direct/price/daily_commodityRptPrev.asp?Pricing=A&LevelCd=03&PricingDt=2022/8/9',\n",
       " 'https://sdvi2.fama.gov.my/price/direct/price/daily_commodityRptPrev.asp?Pricing=A&LevelCd=03&PricingDt=2022/8/11']"
      ]
     },
     "execution_count": 15,
     "metadata": {},
     "output_type": "execute_result"
    }
   ],
   "source": [
    "updated"
   ]
  },
  {
   "cell_type": "markdown",
   "id": "ba6c80ce",
   "metadata": {},
   "source": [
    "#### Webscrap the data from source "
   ]
  },
  {
   "cell_type": "code",
   "execution_count": 22,
   "id": "ae1dc061",
   "metadata": {},
   "outputs": [],
   "source": [
    "def multipleday(): \n",
    "\n",
    "    for link in updated:\n",
    "        alldf = []\n",
    "\n",
    "        # for filenaming output files\n",
    "        date_i = re.findall('2022.*', link)\n",
    "        date_i = str(date_i[0].replace('/','_'))\n",
    "        output_folder = r\"D:\\Projects\\fama_daily\"          # Save to output folder path\n",
    "        filename = output_folder+\"\\\\\"+ date_i +\".csv\"\n",
    "\n",
    "        # for webscrapping the data    \n",
    "        data = pd.read_html(link)\n",
    "        for df in data[1:]:\n",
    "            alldf.append(df)\n",
    "\n",
    "        result = pd.concat(alldf)\n",
    "        df = result.to_csv(filename)\n",
    "        print(filename)\n",
    "\n",
    "    print('Job completed')        "
   ]
  },
  {
   "cell_type": "code",
   "execution_count": 23,
   "id": "1c9a417c",
   "metadata": {},
   "outputs": [
    {
     "name": "stdout",
     "output_type": "stream",
     "text": [
      "D:\\Projects\\fama_daily\\2022_8_2.csv\n",
      "D:\\Projects\\fama_daily\\2022_8_3.csv\n",
      "D:\\Projects\\fama_daily\\2022_8_4.csv\n",
      "D:\\Projects\\fama_daily\\2022_8_6.csv\n",
      "D:\\Projects\\fama_daily\\2022_8_9.csv\n",
      "D:\\Projects\\fama_daily\\2022_8_11.csv\n",
      "Job completed\n"
     ]
    }
   ],
   "source": [
    "multipleday()"
   ]
  },
  {
   "cell_type": "code",
   "execution_count": null,
   "id": "c06df118",
   "metadata": {},
   "outputs": [],
   "source": []
  },
  {
   "cell_type": "code",
   "execution_count": null,
   "id": "bf0f7292",
   "metadata": {},
   "outputs": [],
   "source": []
  }
 ],
 "metadata": {
  "kernelspec": {
   "display_name": "Python 3 (ipykernel)",
   "language": "python",
   "name": "python3"
  },
  "language_info": {
   "codemirror_mode": {
    "name": "ipython",
    "version": 3
   },
   "file_extension": ".py",
   "mimetype": "text/x-python",
   "name": "python",
   "nbconvert_exporter": "python",
   "pygments_lexer": "ipython3",
   "version": "3.9.12"
  }
 },
 "nbformat": 4,
 "nbformat_minor": 5
}
