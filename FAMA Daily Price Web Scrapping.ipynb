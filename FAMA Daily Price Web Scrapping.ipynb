{
 "cells": [
  {
   "cell_type": "markdown",
   "id": "42d75dea",
   "metadata": {},
   "source": [
    "#### Import needed libraries"
   ]
  },
  {
   "cell_type": "code",
   "execution_count": 5,
   "id": "6cb3d1df",
   "metadata": {},
   "outputs": [],
   "source": [
    "import pandas as pd\n",
    "import re"
   ]
  },
  {
   "cell_type": "markdown",
   "id": "78a9b68e",
   "metadata": {},
   "source": [
    "#### Source"
   ]
  },
  {
   "cell_type": "code",
   "execution_count": 6,
   "id": "96b2f1ae",
   "metadata": {},
   "outputs": [],
   "source": [
    "link = 'https://sdvi2.fama.gov.my/price/direct/price/daily_commodityRptPrev.asp?Pricing=A&LevelCd=03&PricingDt=2022/7/5'"
   ]
  },
  {
   "cell_type": "code",
   "execution_count": 11,
   "id": "eaf03681",
   "metadata": {},
   "outputs": [],
   "source": [
    "# for naming output file\n",
    "date_i = re.findall('2022.*', link)\n",
    "date_i = str(date_i[0].replace('/','_'))\n",
    "output_folder = r\"D:\\Projects\\fama_daily\"\n",
    "filename = output_folder+\"\\\\\"+ date_i +\".csv\"\n",
    "\n",
    "alldf = []\n",
    "\n",
    "\n",
    "def dfday():    \n",
    "    data = pd.read_html(link)\n",
    "    for df in data[1:]:\n",
    "\n",
    "        alldf.append(df)\n",
    "\n",
    "    result = pd.concat(alldf)\n",
    "    df = result.to_csv(filename)  \n",
    "    \n",
    "    print('Job commpleted')"
   ]
  },
  {
   "cell_type": "code",
   "execution_count": 12,
   "id": "303e192e",
   "metadata": {},
   "outputs": [
    {
     "name": "stdout",
     "output_type": "stream",
     "text": [
      "Job commpleted\n"
     ]
    }
   ],
   "source": [
    "dfday()"
   ]
  },
  {
   "cell_type": "code",
   "execution_count": null,
   "id": "fcbe607b",
   "metadata": {},
   "outputs": [],
   "source": []
  }
 ],
 "metadata": {
  "kernelspec": {
   "display_name": "Python 3 (ipykernel)",
   "language": "python",
   "name": "python3"
  },
  "language_info": {
   "codemirror_mode": {
    "name": "ipython",
    "version": 3
   },
   "file_extension": ".py",
   "mimetype": "text/x-python",
   "name": "python",
   "nbconvert_exporter": "python",
   "pygments_lexer": "ipython3",
   "version": "3.9.12"
  }
 },
 "nbformat": 4,
 "nbformat_minor": 5
}
